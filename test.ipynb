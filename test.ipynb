{
 "cells": [
  {
   "cell_type": "markdown",
   "metadata": {},
   "source": [
    "df_legacy_store_details = DB_Extractor.read_rds_table('legacy_store_details')"
   ]
  },
  {
   "cell_type": "markdown",
   "metadata": {},
   "source": []
  },
  {
   "cell_type": "code",
   "execution_count": 6,
   "metadata": {},
   "outputs": [
    {
     "name": "stdout",
     "output_type": "stream",
     "text": [
      "db_c\n",
      "{'RDS_HOST': 'data-handling-project-readonly.cq2e8zno855e.eu-west-1.rds.amazonaws.com', 'RDS_PASSWORD': 'AiCore2022', 'RDS_USER': 'aicore_admin', 'RDS_DATABASE': 'postgres', 'RDS_PORT': 5432}\n",
      "{'RDS_HOST': 'data-handling-project-readonly.cq2e8zno855e.eu-west-1.rds.amazonaws.com', 'RDS_PASSWORD': 'AiCore2022', 'RDS_USER': 'aicore_admin', 'RDS_DATABASE': 'postgres', 'RDS_PORT': 5432}\n",
      "{'RDS_HOST': 'data-handling-project-readonly.cq2e8zno855e.eu-west-1.rds.amazonaws.com', 'RDS_PASSWORD': 'AiCore2022', 'RDS_USER': 'aicore_admin', 'RDS_DATABASE': 'postgres', 'RDS_PORT': 5432}\n",
      "{'RDS_HOST': 'data-handling-project-readonly.cq2e8zno855e.eu-west-1.rds.amazonaws.com', 'RDS_PASSWORD': 'AiCore2022', 'RDS_USER': 'aicore_admin', 'RDS_DATABASE': 'postgres', 'RDS_PORT': 5432}\n",
      "{'RDS_HOST': 'data-handling-project-readonly.cq2e8zno855e.eu-west-1.rds.amazonaws.com', 'RDS_PASSWORD': 'AiCore2022', 'RDS_USER': 'aicore_admin', 'RDS_DATABASE': 'postgres', 'RDS_PORT': 5432}\n"
     ]
    },
    {
     "data": {
      "text/plain": [
       "<sqlalchemy.engine.base.Connection at 0x167bba620>"
      ]
     },
     "execution_count": 6,
     "metadata": {},
     "output_type": "execute_result"
    }
   ],
   "source": [
    "import yaml\n",
    "import psycopg2\n",
    "from sqlalchemy import create_engine\n",
    "\n",
    " \n",
    "#engine = create_engine(\"{type of database}+{DBAPI}://{username}:{password}@{host}:{port}/{database_name}\")\n",
    "\n",
    "class DatabaseConnector():                                  #Class name\n",
    "\n",
    "        def __init__(self, yaml_file):   #init class + yaml file (data_utils) + attached data from yaml to class \n",
    "            self.yaml_file = yaml_file      #instance of args\n",
    "\n",
    "        def read_db_creds(self):\n",
    "\n",
    "            with open(self.yaml_file, 'r') as f:\n",
    "            #('db_creds.yaml', 'r') as f:       # open db_creds.yaml file as f (format)\n",
    "                data = yaml.safe_load(f)                # assigning yaml file as the variable data \n",
    "\n",
    "            print(data)      # prints data of db creds                            \n",
    "            return data        # returns data of db creds \n",
    "\n",
    "      \n",
    "        def init_db_engine(self): \n",
    "            credentials = self.read_db_creds()    #credentials = reding the db creds file \n",
    "            print(credentials)                      # prints creds\n",
    "            return create_engine(f\"{'postgresql'}+{'psycopg2'}://{credentials['RDS_USER']}:{credentials['RDS_PASSWORD']}@{credentials['RDS_HOST']}:{credentials['RDS_PORT']}/{credentials['RDS_DATABASE']}\")\n",
    "            # engine created - linked to credentials of db creds \n",
    "\n",
    "DB_Connector = DatabaseConnector('db_creds.yaml')  # created an instance that attached yaml file \n",
    "print(DB_Connector.yaml_file[0:4]) # TEST to see if its connected to file - runs forst 4 charecters.\n",
    "DB_Connector.read_db_creds()\n",
    "DB_Connector.init_db_engine()\n",
    "engine = DB_Connector.init_db_engine()\n",
    "engine.connect()"
   ]
  },
  {
   "cell_type": "code",
   "execution_count": 1,
   "metadata": {},
   "outputs": [],
   "source": [
    "from data_extraction import DataExtractor\n",
    "from database_utils import DatabaseConnector   \n",
    "\n",
    "DB_Connector = DatabaseConnector('db_creds.yaml')  #Binding method list_db_tables to DB_Connector \n",
    "DB_Extractor = DataExtractor(DB_Connector.init_db_engine())   # DB_connector is the instance of the engine class\n",
    "DB_Extractor.list_db_tables()\n",
    "\n",
    "df_legacy_store_details = DB_Extractor.read_rds_table('legacy_store_details')\n",
    "df_legacy_users = DB_Extractor.read_rds_table('legacy_users')\n",
    "df_orders_table = DB_Extractor.read_rds_table('orders_table')"
   ]
  },
  {
   "cell_type": "code",
   "execution_count": 3,
   "metadata": {},
   "outputs": [
    {
     "name": "stdout",
     "output_type": "stream",
     "text": [
      "index            0\n",
      "first_name       0\n",
      "last_name        0\n",
      "date_of_birth    0\n",
      "company          0\n",
      "email_address    0\n",
      "address          0\n",
      "country          0\n",
      "country_code     0\n",
      "phone_number     0\n",
      "join_date        0\n",
      "user_uuid        0\n",
      "dtype: int64\n",
      "index              0\n",
      "address            0\n",
      "longitude          0\n",
      "lat              440\n",
      "locality           0\n",
      "store_code         0\n",
      "staff_numbers      0\n",
      "opening_date       0\n",
      "store_type         0\n",
      "latitude           1\n",
      "country_code       0\n",
      "continent          0\n",
      "dtype: int64\n",
      "level_0                  0\n",
      "index                    0\n",
      "date_uuid                0\n",
      "first_name          104839\n",
      "last_name           104839\n",
      "user_uuid                0\n",
      "card_number              0\n",
      "store_code               0\n",
      "product_code             0\n",
      "1                   120123\n",
      "product_quantity         0\n",
      "dtype: int64\n",
      "index            0\n",
      "first_name       0\n",
      "last_name        0\n",
      "date_of_birth    0\n",
      "company          0\n",
      "email_address    0\n",
      "address          0\n",
      "country          0\n",
      "country_code     0\n",
      "phone_number     0\n",
      "join_date        0\n",
      "user_uuid        0\n",
      "dtype: int64\n",
      "index            0\n",
      "address          0\n",
      "longitude        0\n",
      "locality         0\n",
      "store_code       0\n",
      "staff_numbers    0\n",
      "opening_date     0\n",
      "store_type       0\n",
      "country_code     0\n",
      "continent        0\n",
      "dtype: int64\n",
      "level_0             0\n",
      "index               0\n",
      "date_uuid           0\n",
      "user_uuid           0\n",
      "card_number         0\n",
      "store_code          0\n",
      "product_code        0\n",
      "product_quantity    0\n",
      "dtype: int64\n"
     ]
    }
   ],
   "source": [
    "from data_extraction import df_legacy_users # legacy user df passed in \n",
    "from data_extraction import df_legacy_store_details\n",
    "from data_extraction import df_orders_table\n",
    "\n",
    "from data_cleaning import DataCleaning\n",
    "\n",
    "cleaner_1 = DataCleaning(df_legacy_users)   # instance of the class with data frame \n",
    "cleaner_2 = DataCleaning(df_legacy_store_details)\n",
    "cleaner_3 = DataCleaning(df_orders_table)\n",
    "\n",
    "df_legacy_users_clean = cleaner_1.clean_user_data()   # creating a clean cleaner_1 \n",
    "df_legacy_store_details_clean = cleaner_2.clean_user_data()\n",
    "df_orders_table_clean = cleaner_3.clean_user_data()\n",
    "\n"
   ]
  }
 ],
 "metadata": {
  "kernelspec": {
   "display_name": "Python 3.10.7 64-bit",
   "language": "python",
   "name": "python3"
  },
  "language_info": {
   "codemirror_mode": {
    "name": "ipython",
    "version": 3
   },
   "file_extension": ".py",
   "mimetype": "text/x-python",
   "name": "python",
   "nbconvert_exporter": "python",
   "pygments_lexer": "ipython3",
   "version": "3.10.7"
  },
  "orig_nbformat": 4,
  "vscode": {
   "interpreter": {
    "hash": "aee8b7b246df8f9039afb4144a1f6fd8d2ca17a180786b69acc140d282b71a49"
   }
  }
 },
 "nbformat": 4,
 "nbformat_minor": 2
}
